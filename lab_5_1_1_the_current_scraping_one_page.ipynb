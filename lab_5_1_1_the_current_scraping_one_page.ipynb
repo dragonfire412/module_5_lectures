{
 "cells": [
  {
   "cell_type": "markdown",
   "metadata": {},
   "source": [
    "# Case Study - The Current\n",
    "\n",
    "* The Current is an alternative radio station\n",
    "* We will pull information about the play list."
   ]
  },
  {
   "cell_type": "markdown",
   "metadata": {},
   "source": [
    "# Step 0 - Inspect the following page\n",
    "\n",
    "* Song title\n",
    "* Artist\n",
    "* Play time\n",
    "* Day, date, period (am/pm)\n",
    "\n",
    "http://www.thecurrent.org/playlist/2014-01-01/01"
   ]
  },
  {
   "cell_type": "code",
   "execution_count": 1,
   "metadata": {
    "scrolled": true
   },
   "outputs": [],
   "source": [
    "# Import modules here\n",
    "import requests\n",
    "from bs4 import BeautifulSoup"
   ]
  },
  {
   "cell_type": "code",
   "execution_count": 2,
   "metadata": {
    "scrolled": false
   },
   "outputs": [],
   "source": [
    "# Read in the page here\n",
    "s = requests.Session()\n",
    "r = s.get('https://www.thecurrent.org/playlist/2014-01-01/01')\n",
    "current = BeautifulSoup(r.content, \"html.parser\")"
   ]
  },
  {
   "cell_type": "markdown",
   "metadata": {},
   "source": [
    "# Step 1 - Pull off the period of the day (am/pm)\n",
    "\n",
    "Pull out the \"am\"/\"pm\"\n",
    "\n",
    "1. Inspect the element\n",
    "2. Identify the html tag and class\n",
    "3. Search the soup\n",
    "    1. There should be one item returned\n",
    "4. Use soup\\string methods to pull out the info"
   ]
  },
  {
   "cell_type": "code",
   "execution_count": 3,
   "metadata": {
    "scrolled": true
   },
   "outputs": [
    {
     "data": {
      "text/plain": [
       "'am'"
      ]
     },
     "execution_count": 3,
     "metadata": {},
     "output_type": "execute_result"
    }
   ],
   "source": [
    "current.find(\"span\", class_=\"hour-header open\").text.split()[1]"
   ]
  },
  {
   "cell_type": "code",
   "execution_count": null,
   "metadata": {
    "scrolled": true
   },
   "outputs": [],
   "source": []
  },
  {
   "cell_type": "code",
   "execution_count": null,
   "metadata": {
    "scrolled": true
   },
   "outputs": [],
   "source": []
  },
  {
   "cell_type": "code",
   "execution_count": null,
   "metadata": {
    "scrolled": true
   },
   "outputs": [],
   "source": []
  },
  {
   "cell_type": "code",
   "execution_count": null,
   "metadata": {
    "scrolled": true
   },
   "outputs": [],
   "source": []
  },
  {
   "cell_type": "code",
   "execution_count": null,
   "metadata": {
    "scrolled": true
   },
   "outputs": [],
   "source": []
  },
  {
   "cell_type": "markdown",
   "metadata": {},
   "source": [
    "# Step 2 - Pull off DJ\n",
    "\n",
    "Use a similar process to pull off the DJ.\n"
   ]
  },
  {
   "cell_type": "code",
   "execution_count": 4,
   "metadata": {
    "scrolled": true
   },
   "outputs": [
    {
     "data": {
      "text/plain": [
       "'Jade'"
      ]
     },
     "execution_count": 4,
     "metadata": {},
     "output_type": "execute_result"
    }
   ],
   "source": [
    "current.find(\"h5\", class_=\"currentDj\").text.split()[1]"
   ]
  },
  {
   "cell_type": "code",
   "execution_count": 5,
   "metadata": {
    "scrolled": true
   },
   "outputs": [],
   "source": [
    "# Note: current DJ, not anything related to the playlist on the page"
   ]
  },
  {
   "cell_type": "code",
   "execution_count": null,
   "metadata": {
    "scrolled": true
   },
   "outputs": [],
   "source": []
  },
  {
   "cell_type": "code",
   "execution_count": null,
   "metadata": {
    "scrolled": true
   },
   "outputs": [],
   "source": []
  },
  {
   "cell_type": "code",
   "execution_count": null,
   "metadata": {
    "scrolled": true
   },
   "outputs": [],
   "source": []
  },
  {
   "cell_type": "code",
   "execution_count": null,
   "metadata": {
    "scrolled": true
   },
   "outputs": [],
   "source": []
  },
  {
   "cell_type": "markdown",
   "metadata": {},
   "source": [
    "# Step 3 - Pull out the day of the week\n",
    "\n",
    "* Pull out the day of the week"
   ]
  },
  {
   "cell_type": "code",
   "execution_count": 6,
   "metadata": {
    "scrolled": true
   },
   "outputs": [
    {
     "data": {
      "text/plain": [
       "'Wednesday'"
      ]
     },
     "execution_count": 6,
     "metadata": {},
     "output_type": "execute_result"
    }
   ],
   "source": [
    "current.find(\"a\", class_=\"start-picker\").text.split(\",\")[0]"
   ]
  },
  {
   "cell_type": "code",
   "execution_count": null,
   "metadata": {
    "scrolled": true
   },
   "outputs": [],
   "source": []
  },
  {
   "cell_type": "code",
   "execution_count": null,
   "metadata": {
    "scrolled": true
   },
   "outputs": [],
   "source": []
  },
  {
   "cell_type": "code",
   "execution_count": null,
   "metadata": {
    "scrolled": true
   },
   "outputs": [],
   "source": []
  },
  {
   "cell_type": "code",
   "execution_count": null,
   "metadata": {
    "scrolled": true
   },
   "outputs": [],
   "source": []
  },
  {
   "cell_type": "markdown",
   "metadata": {},
   "source": [
    "# Title of each song\n",
    "\n",
    "1. Inspect the element\n",
    "2. Identify the html tag and class\n",
    "3. Use `find_all` to make a list of all relevant tags\n",
    "4. Pull off an example case\n",
    "5. Write a function to pull out the title\n",
    "6. Write a single pipe to convert the original soup into a list of titles. \n",
    "7. Verify you have the right number of titles.\n",
    "8. Package the pipe in a function named `get_title`"
   ]
  },
  {
   "cell_type": "markdown",
   "metadata": {},
   "source": [
    "Tag is h5, class is \"title\""
   ]
  },
  {
   "cell_type": "code",
   "execution_count": 7,
   "metadata": {
    "scrolled": false
   },
   "outputs": [
    {
     "data": {
      "text/plain": [
       "[<h5 class=\"title\">Holy Roller</h5>,\n",
       " <h5 class=\"title\">Kingdom of Rust</h5>,\n",
       " <h5 class=\"title\">Black Dog</h5>,\n",
       " <h5 class=\"title\">Turn It Around</h5>,\n",
       " <h5 class=\"title\">Flavor of the Month</h5>,\n",
       " <h5 class=\"title\">Potential Wife</h5>,\n",
       " <h5 class=\"title\">24 Hours</h5>,\n",
       " <h5 class=\"title\">Who's Gonna Shoe Your Pretty Little Feet?</h5>,\n",
       " <h5 class=\"title\">Marigold</h5>,\n",
       " <h5 class=\"title\">High Road</h5>,\n",
       " <h5 class=\"title\">The Vampyre Of Time and Memory</h5>,\n",
       " <h5 class=\"title\">Valerie Plame</h5>,\n",
       " <h5 class=\"title\">Morning Song</h5>,\n",
       " <h5 class=\"title\">(You Will) Set The World On Fire</h5>,\n",
       " <h5 class=\"title\">Sixteen Saltines</h5>,\n",
       " <h5 class=\"title\">Wave of Mutilation</h5>]"
      ]
     },
     "execution_count": 7,
     "metadata": {},
     "output_type": "execute_result"
    }
   ],
   "source": [
    "current.find_all(\"h5\", class_=\"title\")"
   ]
  },
  {
   "cell_type": "code",
   "execution_count": 8,
   "metadata": {},
   "outputs": [
    {
     "data": {
      "text/plain": [
       "<h5 class=\"title\">Holy Roller</h5>"
      ]
     },
     "execution_count": 8,
     "metadata": {},
     "output_type": "execute_result"
    }
   ],
   "source": [
    "ex_title = current.find_all(\"h5\", class_=\"title\")[0]\n",
    "ex_title"
   ]
  },
  {
   "cell_type": "code",
   "execution_count": 9,
   "metadata": {},
   "outputs": [
    {
     "data": {
      "text/plain": [
       "'Holy Roller'"
      ]
     },
     "execution_count": 9,
     "metadata": {},
     "output_type": "execute_result"
    }
   ],
   "source": [
    "ex_title.text"
   ]
  },
  {
   "cell_type": "code",
   "execution_count": 10,
   "metadata": {
    "scrolled": true
   },
   "outputs": [
    {
     "data": {
      "text/plain": [
       "['Holy Roller',\n",
       " 'Kingdom of Rust',\n",
       " 'Black Dog',\n",
       " 'Turn It Around',\n",
       " 'Flavor of the Month',\n",
       " 'Potential Wife',\n",
       " '24 Hours',\n",
       " \"Who's Gonna Shoe Your Pretty Little Feet?\",\n",
       " 'Marigold',\n",
       " 'High Road',\n",
       " 'The Vampyre Of Time and Memory',\n",
       " 'Valerie Plame',\n",
       " 'Morning Song',\n",
       " '(You Will) Set The World On Fire',\n",
       " 'Sixteen Saltines',\n",
       " 'Wave of Mutilation']"
      ]
     },
     "execution_count": 10,
     "metadata": {},
     "output_type": "execute_result"
    }
   ],
   "source": [
    "[tag.text for tag in current.find_all(\"h5\", class_=\"title\")]"
   ]
  },
  {
   "cell_type": "code",
   "execution_count": 11,
   "metadata": {
    "scrolled": true
   },
   "outputs": [],
   "source": [
    "def get_titles(soup: BeautifulSoup) -> list:\n",
    "    return [tag.text for tag in soup.find_all(\"h5\", class_=\"title\")]"
   ]
  },
  {
   "cell_type": "code",
   "execution_count": 12,
   "metadata": {},
   "outputs": [
    {
     "data": {
      "text/plain": [
       "['Holy Roller',\n",
       " 'Kingdom of Rust',\n",
       " 'Black Dog',\n",
       " 'Turn It Around',\n",
       " 'Flavor of the Month',\n",
       " 'Potential Wife',\n",
       " '24 Hours',\n",
       " \"Who's Gonna Shoe Your Pretty Little Feet?\",\n",
       " 'Marigold',\n",
       " 'High Road',\n",
       " 'The Vampyre Of Time and Memory',\n",
       " 'Valerie Plame',\n",
       " 'Morning Song',\n",
       " '(You Will) Set The World On Fire',\n",
       " 'Sixteen Saltines',\n",
       " 'Wave of Mutilation']"
      ]
     },
     "execution_count": 12,
     "metadata": {},
     "output_type": "execute_result"
    }
   ],
   "source": [
    "get_titles(current)"
   ]
  },
  {
   "cell_type": "code",
   "execution_count": 13,
   "metadata": {
    "scrolled": true
   },
   "outputs": [],
   "source": [
    "from composablesoup import find, find_all, get_text, has_attr\n",
    "from composable.sequence import slice, head\n",
    "from composable.strict import map, filter\n",
    "from composable.string import replace\n",
    "from composable import from_toolz as tlz"
   ]
  },
  {
   "cell_type": "code",
   "execution_count": 14,
   "metadata": {
    "scrolled": true
   },
   "outputs": [],
   "source": [
    "titles = (current\n",
    "    >> find_all(\"h5\", class_=\"title\")\n",
    "    >> map(get_text)\n",
    ")"
   ]
  },
  {
   "cell_type": "code",
   "execution_count": 15,
   "metadata": {
    "scrolled": true
   },
   "outputs": [
    {
     "data": {
      "text/plain": [
       "True"
      ]
     },
     "execution_count": 15,
     "metadata": {},
     "output_type": "execute_result"
    }
   ],
   "source": [
    "len(get_titles(current)) == len(titles) == 16"
   ]
  },
  {
   "cell_type": "code",
   "execution_count": 16,
   "metadata": {
    "scrolled": true
   },
   "outputs": [
    {
     "data": {
      "text/plain": [
       "['Holy Roller',\n",
       " 'Kingdom of Rust',\n",
       " 'Black Dog',\n",
       " 'Turn It Around',\n",
       " 'Flavor of the Month',\n",
       " 'Potential Wife',\n",
       " '24 Hours',\n",
       " \"Who's Gonna Shoe Your Pretty Little Feet?\",\n",
       " 'Marigold',\n",
       " 'High Road',\n",
       " 'The Vampyre Of Time and Memory',\n",
       " 'Valerie Plame',\n",
       " 'Morning Song',\n",
       " '(You Will) Set The World On Fire',\n",
       " 'Sixteen Saltines',\n",
       " 'Wave of Mutilation']"
      ]
     },
     "execution_count": 16,
     "metadata": {},
     "output_type": "execute_result"
    }
   ],
   "source": [
    "def get_title(soup):\n",
    "    return (soup\n",
    "            >> find_all(\"h5\", class_=\"title\")\n",
    "            >> map(get_text)\n",
    "        )\n",
    "\n",
    "get_title(current)"
   ]
  },
  {
   "cell_type": "markdown",
   "metadata": {},
   "source": [
    "# Pull off the name of the artist\n",
    "\n",
    "1. Inspect the element\n",
    "2. Identify the html tag and class\n",
    "3. Use `find_all` to make a list of all relevant tags\n",
    "4. Pull off an example case\n",
    "5. Write a function to pull out the artist\n",
    "6. Write a single pipe to convert the original soup into a list of artists. \n",
    "7. Verify you have the right number of artists.\n",
    "8. Package the pipe in a function named `get_artist`\n"
   ]
  },
  {
   "cell_type": "markdown",
   "metadata": {},
   "source": [
    "tag is h5, class is \"artist\""
   ]
  },
  {
   "cell_type": "code",
   "execution_count": 17,
   "metadata": {
    "scrolled": true
   },
   "outputs": [
    {
     "data": {
      "text/plain": [
       "[<h5 class=\"artist\">Thao and The Get Down Stay Down</h5>,\n",
       " <h5 class=\"artist\">Doves</h5>,\n",
       " <h5 class=\"artist\">Frankie Lee</h5>,\n",
       " <h5 class=\"artist\">Lucius</h5>,\n",
       " <h5 class=\"artist\">The Posies</h5>,\n",
       " <h5 class=\"artist\">Strange Names</h5>,\n",
       " <h5 class=\"artist\">Sky Ferreira</h5>,\n",
       " <h5 class=\"artist\">Billie Joe and Norah</h5>,\n",
       " <h5 class=\"artist\">J. Roddy Walston and The Business</h5>,\n",
       " <h5 class=\"artist\">Cults</h5>,\n",
       " <h5 class=\"artist\">Queens of the Stone Age</h5>,\n",
       " <h5 class=\"artist\">The Decemberists</h5>,\n",
       " <h5 class=\"artist\">The Avett Brothers</h5>,\n",
       " <h5 class=\"artist\">David Bowie</h5>,\n",
       " <h5 class=\"artist\">Jack White</h5>,\n",
       " <h5 class=\"artist\">Pixies</h5>]"
      ]
     },
     "execution_count": 17,
     "metadata": {},
     "output_type": "execute_result"
    }
   ],
   "source": [
    "current.find_all(\"h5\", class_=\"artist\")"
   ]
  },
  {
   "cell_type": "code",
   "execution_count": 18,
   "metadata": {},
   "outputs": [
    {
     "data": {
      "text/plain": [
       "<h5 class=\"artist\">Thao and The Get Down Stay Down</h5>"
      ]
     },
     "execution_count": 18,
     "metadata": {},
     "output_type": "execute_result"
    }
   ],
   "source": [
    "ex_artist = current.find_all(\"h5\", class_=\"artist\")[0]\n",
    "ex_artist"
   ]
  },
  {
   "cell_type": "code",
   "execution_count": 19,
   "metadata": {},
   "outputs": [
    {
     "data": {
      "text/plain": [
       "'Thao and The Get Down Stay Down'"
      ]
     },
     "execution_count": 19,
     "metadata": {},
     "output_type": "execute_result"
    }
   ],
   "source": [
    "ex_artist.text"
   ]
  },
  {
   "cell_type": "code",
   "execution_count": 20,
   "metadata": {},
   "outputs": [
    {
     "data": {
      "text/plain": [
       "'Thao and The Get Down Stay Down'"
      ]
     },
     "execution_count": 20,
     "metadata": {},
     "output_type": "execute_result"
    }
   ],
   "source": [
    "ex_artist >> get_text()"
   ]
  },
  {
   "cell_type": "code",
   "execution_count": 21,
   "metadata": {
    "scrolled": true
   },
   "outputs": [
    {
     "data": {
      "text/plain": [
       "['Thao and The Get Down Stay Down',\n",
       " 'Doves',\n",
       " 'Frankie Lee',\n",
       " 'Lucius',\n",
       " 'The Posies',\n",
       " 'Strange Names',\n",
       " 'Sky Ferreira',\n",
       " 'Billie Joe and Norah',\n",
       " 'J. Roddy Walston and The Business',\n",
       " 'Cults',\n",
       " 'Queens of the Stone Age',\n",
       " 'The Decemberists',\n",
       " 'The Avett Brothers',\n",
       " 'David Bowie',\n",
       " 'Jack White',\n",
       " 'Pixies']"
      ]
     },
     "execution_count": 21,
     "metadata": {},
     "output_type": "execute_result"
    }
   ],
   "source": [
    "[tag.text for tag in current.find_all(\"h5\", class_=\"artist\")]"
   ]
  },
  {
   "cell_type": "code",
   "execution_count": 22,
   "metadata": {
    "scrolled": true
   },
   "outputs": [],
   "source": [
    "def get_artists(soup: BeautifulSoup) -> list:\n",
    "    return [tag.text for tag in soup.find_all(\"h5\", class_=\"artist\")]"
   ]
  },
  {
   "cell_type": "code",
   "execution_count": 23,
   "metadata": {
    "scrolled": true
   },
   "outputs": [
    {
     "data": {
      "text/plain": [
       "['Thao and The Get Down Stay Down',\n",
       " 'Doves',\n",
       " 'Frankie Lee',\n",
       " 'Lucius',\n",
       " 'The Posies',\n",
       " 'Strange Names',\n",
       " 'Sky Ferreira',\n",
       " 'Billie Joe and Norah',\n",
       " 'J. Roddy Walston and The Business',\n",
       " 'Cults',\n",
       " 'Queens of the Stone Age',\n",
       " 'The Decemberists',\n",
       " 'The Avett Brothers',\n",
       " 'David Bowie',\n",
       " 'Jack White',\n",
       " 'Pixies']"
      ]
     },
     "execution_count": 23,
     "metadata": {},
     "output_type": "execute_result"
    }
   ],
   "source": [
    "get_artists(current)"
   ]
  },
  {
   "cell_type": "code",
   "execution_count": 24,
   "metadata": {
    "scrolled": true
   },
   "outputs": [],
   "source": [
    "artists =(current\n",
    "    >> find_all(\"h5\", class_=\"artist\")\n",
    "    >> map(get_text)\n",
    ")"
   ]
  },
  {
   "cell_type": "code",
   "execution_count": 25,
   "metadata": {
    "scrolled": false
   },
   "outputs": [
    {
     "data": {
      "text/plain": [
       "True"
      ]
     },
     "execution_count": 25,
     "metadata": {},
     "output_type": "execute_result"
    }
   ],
   "source": [
    "len(get_artists(current)) == len(artists) == 16"
   ]
  },
  {
   "cell_type": "code",
   "execution_count": 26,
   "metadata": {},
   "outputs": [],
   "source": [
    "def get_artist(soup): # not good name - implies only \n",
    "    return (soup\n",
    "    >> find_all(\"h5\", class_=\"artist\")\n",
    "    >> map(get_text)\n",
    ")"
   ]
  },
  {
   "cell_type": "code",
   "execution_count": 27,
   "metadata": {},
   "outputs": [
    {
     "data": {
      "text/plain": [
       "['Thao and The Get Down Stay Down',\n",
       " 'Doves',\n",
       " 'Frankie Lee',\n",
       " 'Lucius',\n",
       " 'The Posies',\n",
       " 'Strange Names',\n",
       " 'Sky Ferreira',\n",
       " 'Billie Joe and Norah',\n",
       " 'J. Roddy Walston and The Business',\n",
       " 'Cults',\n",
       " 'Queens of the Stone Age',\n",
       " 'The Decemberists',\n",
       " 'The Avett Brothers',\n",
       " 'David Bowie',\n",
       " 'Jack White',\n",
       " 'Pixies']"
      ]
     },
     "execution_count": 27,
     "metadata": {},
     "output_type": "execute_result"
    }
   ],
   "source": [
    "get_artist(current)"
   ]
  }
 ],
 "metadata": {
  "anaconda-cloud": {},
  "kernelspec": {
   "display_name": "Python 3",
   "language": "python",
   "name": "python3"
  },
  "language_info": {
   "codemirror_mode": {
    "name": "ipython",
    "version": 3
   },
   "file_extension": ".py",
   "mimetype": "text/x-python",
   "name": "python",
   "nbconvert_exporter": "python",
   "pygments_lexer": "ipython3",
   "version": "3.7.6"
  }
 },
 "nbformat": 4,
 "nbformat_minor": 1
}

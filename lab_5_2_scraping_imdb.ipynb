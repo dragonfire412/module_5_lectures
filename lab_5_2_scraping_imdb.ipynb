{
 "cells": [
  {
   "cell_type": "markdown",
   "metadata": {},
   "source": [
    "# Lab 5.2 -- Scraping IMBD\n",
    "\n",
    "Our goal is to scrap [IMDB](imdb.com) user reviews for *Borat Subsequent Moviefilm*.  Unfortunately, the page for user reviews only shows a limited number of reviews and you can't access additional pages through a link.  `selenium` to the rescue! In this lab, we will combine our two approaches to web scraping by\n",
    "\n",
    "1. Using `selenium` to load the page and click the *Load More* until we have all the reviews.\n",
    "2. Creating a `BeautifulSoup` instance for the complete page and parsing the results."
   ]
  },
  {
   "cell_type": "markdown",
   "metadata": {},
   "source": [
    "### Task 1 -- Load the reviews.\n",
    "\n",
    "Explore IMBD to find the web link for the user reviews for *Borat Subsequent Moviefilm* and load this page in Python with `selenium`."
   ]
  },
  {
   "cell_type": "code",
   "execution_count": 1,
   "metadata": {},
   "outputs": [],
   "source": [
    "from selenium import webdriver\n",
    "\n",
    "DRIVER_PATH = r'/mnt/c/Users/kg3597wc/Desktop/chromefolder/chromedriver.exe'\n",
    "driver = webdriver.Chrome(executable_path=DRIVER_PATH)\n",
    "driver.get('https://www.imdb.com/title/tt13143964/reviews')"
   ]
  },
  {
   "cell_type": "markdown",
   "metadata": {},
   "source": [
    "### Task 2 -- Figure out how to click the *Load More* button.\n",
    "\n",
    "To load all of the user reviews, we need to click the *Load More* button multiple times.  First, find the corresponding WebElement and verify that clicking this button loads another page of results."
   ]
  },
  {
   "cell_type": "code",
   "execution_count": 2,
   "metadata": {},
   "outputs": [],
   "source": [
    "html_before = driver.page_source"
   ]
  },
  {
   "cell_type": "code",
   "execution_count": 3,
   "metadata": {},
   "outputs": [],
   "source": [
    "more_button = driver.find_element_by_class_name(\"ipl-load-more__button\")\n",
    "more_button.click()"
   ]
  },
  {
   "cell_type": "code",
   "execution_count": 4,
   "metadata": {},
   "outputs": [
    {
     "data": {
      "text/plain": [
       "True"
      ]
     },
     "execution_count": 4,
     "metadata": {},
     "output_type": "execute_result"
    }
   ],
   "source": [
    "html_after = driver.page_source\n",
    "html_before != html_after"
   ]
  },
  {
   "cell_type": "markdown",
   "metadata": {},
   "source": [
    "### Task 3 -- Click *Load More* until you have all the results.\n",
    "\n",
    "Now you need to write code that will keep clicking the *Load More* button when you find it.  **Hint:** We can think of this as an example of an *unfold* process, meaning you should use a `while` loop combined with a [try-and-except statement](https://pythonbasics.org/try-except/) to keep trying to click the button.  To make sure you don't get an infinite loop, use a variable to identify and hold the stopping condition/state."
   ]
  },
  {
   "cell_type": "code",
   "execution_count": 5,
   "metadata": {},
   "outputs": [
    {
     "name": "stdout",
     "output_type": "stream",
     "text": [
      "Finished\n"
     ]
    }
   ],
   "source": [
    "# While comments load in, the button is not clickable\n",
    "# Rather than using a fixed wait time, selenium can detect when it changes\n",
    "# Based on https://selenium-python.readthedocs.io/waits.html\n",
    "from selenium.webdriver.support.ui import WebDriverWait\n",
    "from selenium.webdriver.common.by import By\n",
    "from selenium.webdriver.support import expected_conditions as EC\n",
    "from selenium.common.exceptions import TimeoutException\n",
    "\n",
    "max_pages = 250 # use to cutoff after a certain number of pages\n",
    "pages = max_pages\n",
    "while pages > 0:\n",
    "    try:\n",
    "        more_button.click()\n",
    "        pages -= 1        \n",
    "        more_button = WebDriverWait(driver, 5).until(\n",
    "                    EC.element_to_be_clickable((By.CLASS_NAME, \"ipl-load-more__button\")))\n",
    "        \n",
    "    except TimeoutException: # Can't be found anymore - done\n",
    "        print(\"Finished\")\n",
    "        break"
   ]
  },
  {
   "cell_type": "markdown",
   "metadata": {},
   "source": [
    "### Task 4 -- Load the results in a `BeautifulSoup` object.\n",
    "\n",
    "Since `bs4` has better tools for parsing html, we will now switch to using this module to parse the results.  Recall that you can access the content of the current content from the `selenium` driver using `driver.page_source`.  You can use this attribute to make a `soup` object for the page using \n",
    "\n",
    "> soup = BeautifulSoup(driver.page_source, 'html.parser')"
   ]
  },
  {
   "cell_type": "code",
   "execution_count": 7,
   "metadata": {},
   "outputs": [],
   "source": [
    "from bs4 import BeautifulSoup\n",
    "reviews_soup = BeautifulSoup(driver.page_source, 'html.parser')"
   ]
  },
  {
   "cell_type": "markdown",
   "metadata": {},
   "source": [
    "### Task 5 -- Extract the information\n",
    "\n",
    "Now extract the following data to a csv file.\n",
    "\n",
    "1. Title\n",
    "2. Score\n",
    "3. User\n",
    "4. Date\n",
    "5. Text (replace commas with semi-colons!)\n",
    "6. Two columns for X and Y, where `\"X out of Y found this helpful\"`\n",
    "7. Permanent link the the review.\n"
   ]
  },
  {
   "cell_type": "code",
   "execution_count": 8,
   "metadata": {
    "scrolled": true
   },
   "outputs": [],
   "source": [
    "# Your code here\n",
    "review_blocks = reviews_soup.find_all(\"div\", class_=\"imdb-user-review\")"
   ]
  },
  {
   "cell_type": "code",
   "execution_count": 9,
   "metadata": {},
   "outputs": [
    {
     "data": {
      "text/plain": [
       "['Borat Make a Number 2',\n",
       " 'Excellent. And this is from a non Sasha Cohen Baron fan. REAL REVIEW.',\n",
       " 'Laugh Out Loud Funny S#!^!',\n",
       " 'Cohen is a genius',\n",
       " \"The 10's are 10's & The 1's are 10's!\"]"
      ]
     },
     "execution_count": 9,
     "metadata": {},
     "output_type": "execute_result"
    }
   ],
   "source": [
    "titles = [review.find(\"a\", class_=\"title\").text.strip() for review in review_blocks]\n",
    "titles[:5]"
   ]
  },
  {
   "cell_type": "code",
   "execution_count": 10,
   "metadata": {},
   "outputs": [
    {
     "data": {
      "text/plain": [
       "['6', '3', '3', '2', '4', '2', '2', '2', '6', '6']"
      ]
     },
     "execution_count": 10,
     "metadata": {},
     "output_type": "execute_result"
    }
   ],
   "source": [
    "#sometimes they don't have a score\n",
    "scores = [review.find(\"span\", class_=\"rating-other-user-rating\").span.text if review.find(\"span\", class_=\"rating-other-user-rating\") else None for review in review_blocks]\n",
    "scores[-20:-10]"
   ]
  },
  {
   "cell_type": "code",
   "execution_count": 12,
   "metadata": {},
   "outputs": [
    {
     "data": {
      "text/plain": [
       "['MissCzarChasm',\n",
       " 'lvanka',\n",
       " 'YourSonsDad',\n",
       " 'WindsOfWintergreen',\n",
       " 'AnaAnaBanana']"
      ]
     },
     "execution_count": 12,
     "metadata": {},
     "output_type": "execute_result"
    }
   ],
   "source": [
    "users = [review.find(\"span\", class_=\"display-name-link\").a.text for review in review_blocks]\n",
    "users[:5]"
   ]
  },
  {
   "cell_type": "code",
   "execution_count": 13,
   "metadata": {},
   "outputs": [
    {
     "data": {
      "text/plain": [
       "['29 October 2020',\n",
       " '30 October 2020',\n",
       " '28 October 2020',\n",
       " '27 October 2020',\n",
       " '27 October 2020']"
      ]
     },
     "execution_count": 13,
     "metadata": {},
     "output_type": "execute_result"
    }
   ],
   "source": [
    "dates = [review.find(\"span\", class_=\"review-date\").text for review in review_blocks]\n",
    "dates[:5]"
   ]
  },
  {
   "cell_type": "code",
   "execution_count": 14,
   "metadata": {
    "scrolled": true
   },
   "outputs": [
    {
     "data": {
      "text/plain": [
       "['Borat Make a *Glorious* #2! Subsequent Moviefilm: Delivery of Prodigious Bribe to American Regime for Make Benefit Once Glorious Nation of Kazakhstan is very naiiice!America Mayor Rudolph Giuliani say he not like film.America Mayor Rudolph Giuliani say he very much LIE\\ndown to fix pants like in nation of Kazakhstan where we not stand up to tuck the shirt. Much success.You watch.Chin qui',\n",
       " 'My husband loved SCB in all his incarnations (Ali G., Borat, Bruno, and that guy from Who is America). He\\'d quote parts of Bruno (\"But first, more dancing with Bruno!\") as he\\'d dance around me in the kitchen. He\\'d quote parts of an interview SCB did with Dick Cheney, as I rolled my eyes. Every couple of years or so, he\\'d put on Bruno or Borat, and laugh, and laugh, while I just shook my head. In short, he reverted from a mature 35 year old man, into a a teen, because of this one comedian. I kind of hated it and really didn\\'t see the appeal of Cohen\\'s comedy which I found crude and sometimes downright offensive (i.e., \"In my country, they would go crazy for these two. That one, not so much.\"). Until this Borat 2020 film, that is.Knowing he was such a fan, the evening of the day the film came out, I grilled him a porterhouse steak in bourbon and pecans, with a baked potato smothered in broccoli and cheese sauce, and relegated myself to sit through this new Borat without looking too bored or condescending.Two things happened.One, my husband, laughed several times, of course, but he did so less heartily than he had at most of SCB\\'s prior work, and he never rewinded it to re-watch an especially funny part.Two, I loved it.This Borat film is hilarious!!! And not only is it both, in your face, and subtly hilarious, but it has sooo much heart, it nearly brought me to tears. Even the infinitely ill-informed guys he quarantined with, made me want to go out and hug a redneck.So, if you\\'re here wondering whether you should watch it (although I don\\'t think that\\'s what anyone does anymore), I suggest you do so. The worst that can happen is that you\\'ll laugh. Since when is that a bad thing? The best that can happen is that you\\'ll laugh and cry at seeing the United States in such a dire and chaotic state, and so far from united, that you will walk away with a desire to one day make it united, as the greatest gift ever to ourselves and our kids.',\n",
       " \"What's even funnier than the movie itself, is seeing people cry about it. I mean, damn, Cohen just exposes the stuff, he doesn't make them say or do what they say and do. If you're mad at anyone, be mad at the buffoons caught on tape. Or on second thought, keep being mad here, cause its hella hilarious.Great movie. Had richer, deeper laughs than the first, though not as many. Plus, it's on Amazon, so you can basically watch it for what you already pay or get yourself a free trial.Great s#!^!\",\n",
       " \"For those saying Giuliani was just tucking in his shirt, why lay down on a bed to do so instead of STANDING UP? And that, folks, is part of the genius of this film: that is shows you, live on video what's going on, and lets those who want to continue to lie to themselves, to continue to do so, while being laughed at by others. Don't miss it.\",\n",
       " 'Nothing more needs to be said than: LOOK at the 1 ratings and the vehemence (and bad English) with which they try to dissuade you from watching Borat 2! You KNOW it has to be good.WATCH it.']"
      ]
     },
     "execution_count": 14,
     "metadata": {},
     "output_type": "execute_result"
    }
   ],
   "source": [
    "# Sometimes texts appear behind spoiler warnings or are partially cut off due to length on the visible page.\n",
    "# In the HTML, however, the complete text can always be found in a div with one class that's \"show-more__control\"\n",
    "texts = [review.find(\"div\", class_=\"show-more__control\").text for review in review_blocks]\n",
    "texts[:5]"
   ]
  },
  {
   "cell_type": "code",
   "execution_count": 17,
   "metadata": {},
   "outputs": [],
   "source": [
    "import re\n",
    "x_out_of_y = re.compile(r\"(\\d+) out of (\\d+)\")\n",
    "nums_txt = [review.find(\"div\", class_=\"actions text-muted\").text for review in review_blocks]\n",
    "helpful_nums = [x_out_of_y.search(txt).groups() for txt in nums_txt]\n",
    "xes = [nums[0] for nums in helpful_nums]\n",
    "ys = [nums[1] for nums in helpful_nums]"
   ]
  },
  {
   "cell_type": "code",
   "execution_count": 16,
   "metadata": {},
   "outputs": [
    {
     "data": {
      "text/plain": [
       "['/review/rw6217081/?ref_=tt_urv',\n",
       " '/review/rw6219436/?ref_=tt_urv',\n",
       " '/review/rw6213611/?ref_=tt_urv',\n",
       " '/review/rw6210276/?ref_=tt_urv',\n",
       " '/review/rw6211296/?ref_=tt_urv']"
      ]
     },
     "execution_count": 16,
     "metadata": {},
     "output_type": "execute_result"
    }
   ],
   "source": [
    "links = [review.find(text=\"Permalink\").parent['href'] for review in review_blocks]\n",
    "links[:5]"
   ]
  },
  {
   "cell_type": "code",
   "execution_count": 21,
   "metadata": {},
   "outputs": [],
   "source": [
    "import csv\n",
    "\n",
    "with open(\"imdb.csv\", \"w\") as outfile:\n",
    "    writer = csv.writer(outfile)\n",
    "    for record in zip(titles, scores, users, dates, texts, xes, ys, links):\n",
    "        writer.writerow(record)"
   ]
  }
 ],
 "metadata": {
  "kernelspec": {
   "display_name": "Python 3",
   "language": "python",
   "name": "python3"
  },
  "language_info": {
   "codemirror_mode": {
    "name": "ipython",
    "version": 3
   },
   "file_extension": ".py",
   "mimetype": "text/x-python",
   "name": "python",
   "nbconvert_exporter": "python",
   "pygments_lexer": "ipython3",
   "version": "3.7.6"
  }
 },
 "nbformat": 4,
 "nbformat_minor": 2
}

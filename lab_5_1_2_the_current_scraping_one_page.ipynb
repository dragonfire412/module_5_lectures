{
 "cells": [
  {
   "cell_type": "markdown",
   "metadata": {},
   "source": [
    "# Case Study - The Current - Part 2\n",
    "\n",
    "* The Current is an alternative radio station\n",
    "* We will pull information about the play list."
   ]
  },
  {
   "cell_type": "markdown",
   "metadata": {},
   "source": [
    "# Step 0 - Insert current progress\n",
    "\n",
    "Copy over all the relevant code from part 1 of the lab.\n",
    "\n",
    "http://www.thecurrent.org/playlist/2014-01-01/01"
   ]
  },
  {
   "cell_type": "code",
   "execution_count": 1,
   "metadata": {
    "scrolled": true
   },
   "outputs": [],
   "source": [
    "# Import modules here\n",
    "import requests\n",
    "from bs4 import BeautifulSoup"
   ]
  },
  {
   "cell_type": "code",
   "execution_count": 2,
   "metadata": {},
   "outputs": [],
   "source": [
    "from composable import pipeable\n",
    "from composable.strict import map, filter\n",
    "from composablesoup import find, find_all, get_text, has_attr\n",
    "from composablesoup.soup import find_parent, parents, children, find_previous_sibling, find_previous_siblings, find_next_sibling, find_next_siblings, find_previous_sibling\n",
    "from composable.sequence import to_list, head\n",
    "from composable.string import strip\n",
    "from composable import from_toolz as tlz"
   ]
  },
  {
   "cell_type": "code",
   "execution_count": 3,
   "metadata": {
    "scrolled": false
   },
   "outputs": [],
   "source": [
    "# Read in the page here\n",
    "s = requests.Session()\n",
    "r = s.get('https://www.thecurrent.org/playlist/2014-01-01/01')\n",
    "current = BeautifulSoup(r.content, \"html.parser\")"
   ]
  },
  {
   "cell_type": "markdown",
   "metadata": {},
   "source": [
    "# Pull off the song start time\n",
    "\n",
    "1. Inspect the element\n",
    "    1. This one is tricky\n",
    "    2. Time tag does not have a tag, but\n",
    "    3. The surrounding div does have a class\n",
    "2. Identify the html tag and class\n",
    "3. Use `find_all` to make a list of all relevant tags\n",
    "4. Pull off an example case\n",
    "5. Write a function that extracts the start time.\n",
    "6. Write a single pipe to extract the start time.\n",
    "7. Confirm you have the right number of times.\n",
    "8. Package your code in a function called `get_start_time`"
   ]
  },
  {
   "cell_type": "markdown",
   "metadata": {
    "scrolled": true
   },
   "source": [
    "in \"time\" tag, contained in \"a\" tag, contained in \"div\" tag with  class=\"two columns songTime\""
   ]
  },
  {
   "cell_type": "code",
   "execution_count": 4,
   "metadata": {},
   "outputs": [
    {
     "data": {
      "text/plain": [
       "[<div class=\"two columns songTime\">\n",
       " <a href=\"#song226645\">\n",
       " <time>  1:59 </time>\n",
       " </a>\n",
       " </div>,\n",
       " <div class=\"two columns songTime\">\n",
       " <a href=\"#song196069\">\n",
       " <time>  1:54 </time>\n",
       " </a>\n",
       " </div>,\n",
       " <div class=\"two columns songTime\">\n",
       " <a href=\"#song229900\">\n",
       " <time>  1:51 </time>\n",
       " </a>\n",
       " </div>,\n",
       " <div class=\"two columns songTime\">\n",
       " <a href=\"#song235779\">\n",
       " <time>  1:46 </time>\n",
       " </a>\n",
       " </div>,\n",
       " <div class=\"two columns songTime\">\n",
       " <a href=\"#song132616\">\n",
       " <time>  1:44 </time>\n",
       " </a>\n",
       " </div>,\n",
       " <div class=\"two columns songTime\">\n",
       " <a href=\"#song224268\">\n",
       " <time>  1:38 </time>\n",
       " </a>\n",
       " </div>,\n",
       " <div class=\"two columns songTime\">\n",
       " <a href=\"#song236492\">\n",
       " <time>  1:34 </time>\n",
       " </a>\n",
       " </div>,\n",
       " <div class=\"two columns songTime\">\n",
       " <a href=\"#song237794\">\n",
       " <time>  1:31 </time>\n",
       " </a>\n",
       " </div>,\n",
       " <div class=\"two columns songTime\">\n",
       " <a href=\"#song234211\">\n",
       " <time>  1:27 </time>\n",
       " </a>\n",
       " </div>,\n",
       " <div class=\"two columns songTime\">\n",
       " <a href=\"#song235959\">\n",
       " <time>  1:23 </time>\n",
       " </a>\n",
       " </div>,\n",
       " <div class=\"two columns songTime\">\n",
       " <a href=\"#song232235\">\n",
       " <time>  1:19 </time>\n",
       " </a>\n",
       " </div>,\n",
       " <div class=\"two columns songTime\">\n",
       " <a href=\"#song190810\">\n",
       " <time>  1:13 </time>\n",
       " </a>\n",
       " </div>,\n",
       " <div class=\"two columns songTime\">\n",
       " <a href=\"#song236192\">\n",
       " <time>  1:09 </time>\n",
       " </a>\n",
       " </div>,\n",
       " <div class=\"two columns songTime\">\n",
       " <a href=\"#song229658\">\n",
       " <time>  1:05 </time>\n",
       " </a>\n",
       " </div>,\n",
       " <div class=\"two columns songTime\">\n",
       " <a href=\"#song221276\">\n",
       " <time>  1:03 </time>\n",
       " </a>\n",
       " </div>,\n",
       " <div class=\"two columns songTime\">\n",
       " <a href=\"#song131853\">\n",
       " <time>  1:01 </time>\n",
       " </a>\n",
       " </div>]"
      ]
     },
     "execution_count": 4,
     "metadata": {},
     "output_type": "execute_result"
    }
   ],
   "source": [
    "current.find_all(\"div\", class_='two columns songTime')"
   ]
  },
  {
   "cell_type": "code",
   "execution_count": 5,
   "metadata": {},
   "outputs": [
    {
     "data": {
      "text/plain": [
       "<div class=\"two columns songTime\">\n",
       "<a href=\"#song226645\">\n",
       "<time>  1:59 </time>\n",
       "</a>\n",
       "</div>"
      ]
     },
     "execution_count": 5,
     "metadata": {},
     "output_type": "execute_result"
    }
   ],
   "source": [
    "ex_time = current.find_all(\"div\", class_='two columns songTime')[0]\n",
    "ex_time"
   ]
  },
  {
   "cell_type": "code",
   "execution_count": 6,
   "metadata": {},
   "outputs": [
    {
     "data": {
      "text/plain": [
       "<time>  1:59 </time>"
      ]
     },
     "execution_count": 6,
     "metadata": {},
     "output_type": "execute_result"
    }
   ],
   "source": [
    "ex_time.a.time"
   ]
  },
  {
   "cell_type": "code",
   "execution_count": 7,
   "metadata": {},
   "outputs": [
    {
     "name": "stdout",
     "output_type": "stream",
     "text": [
      "1:59\n",
      "1:54\n",
      "1:51\n",
      "1:46\n",
      "1:44\n",
      "1:38\n",
      "1:34\n",
      "1:31\n",
      "1:27\n",
      "1:23\n",
      "1:19\n",
      "1:13\n",
      "1:09\n",
      "1:05\n",
      "1:03\n",
      "1:01\n"
     ]
    }
   ],
   "source": [
    "for tag in current.find_all(\"div\", class_=\"two columns songTime\"):\n",
    "    print(tag.a.time.text.strip())"
   ]
  },
  {
   "cell_type": "code",
   "execution_count": 8,
   "metadata": {},
   "outputs": [
    {
     "name": "stdout",
     "output_type": "stream",
     "text": [
      "1:59\n",
      "1:54\n",
      "1:51\n",
      "1:46\n",
      "1:44\n",
      "1:38\n",
      "1:34\n",
      "1:31\n",
      "1:27\n",
      "1:23\n",
      "1:19\n",
      "1:13\n",
      "1:09\n",
      "1:05\n",
      "1:03\n",
      "1:01\n"
     ]
    }
   ],
   "source": [
    "# alternative approach\n",
    "for tag in current.find_all(\"div\", class_=\"two columns songTime\"):\n",
    "    print(tag.find(\"time\").text.strip())"
   ]
  },
  {
   "cell_type": "code",
   "execution_count": 9,
   "metadata": {
    "scrolled": true
   },
   "outputs": [
    {
     "data": {
      "text/plain": [
       "'1:59'"
      ]
     },
     "execution_count": 9,
     "metadata": {},
     "output_type": "execute_result"
    }
   ],
   "source": [
    "current.find_all(\"div\", class_=\"two columns songTime\")[0]\n",
    "current.find_all(\"div\", class_=\"two columns songTime\")[0].a.time.text.strip()"
   ]
  },
  {
   "cell_type": "code",
   "execution_count": 10,
   "metadata": {
    "scrolled": true
   },
   "outputs": [],
   "source": [
    "def get_times(soup: BeautifulSoup) -> list:\n",
    "    return [t.a.time.text.strip() for t in soup.find_all(\"div\", class_=\"two columns songTime\")]"
   ]
  },
  {
   "cell_type": "code",
   "execution_count": 11,
   "metadata": {},
   "outputs": [
    {
     "data": {
      "text/plain": [
       "['1:59',\n",
       " '1:54',\n",
       " '1:51',\n",
       " '1:46',\n",
       " '1:44',\n",
       " '1:38',\n",
       " '1:34',\n",
       " '1:31',\n",
       " '1:27',\n",
       " '1:23',\n",
       " '1:19',\n",
       " '1:13',\n",
       " '1:09',\n",
       " '1:05',\n",
       " '1:03',\n",
       " '1:01']"
      ]
     },
     "execution_count": 11,
     "metadata": {},
     "output_type": "execute_result"
    }
   ],
   "source": [
    "get_times(current)"
   ]
  },
  {
   "cell_type": "code",
   "execution_count": 12,
   "metadata": {},
   "outputs": [],
   "source": [
    "times = (current\n",
    "     >> find_all(\"div\", class_=\"two columns songTime\")\n",
    "     >> map(find(\"time\"))\n",
    "     >> map(get_text)\n",
    "     >> map(strip)\n",
    ")"
   ]
  },
  {
   "cell_type": "code",
   "execution_count": 13,
   "metadata": {
    "scrolled": true
   },
   "outputs": [
    {
     "data": {
      "text/plain": [
       "True"
      ]
     },
     "execution_count": 13,
     "metadata": {},
     "output_type": "execute_result"
    }
   ],
   "source": [
    "len(times) == len(get_times(current)) == 16"
   ]
  },
  {
   "cell_type": "markdown",
   "metadata": {},
   "source": [
    "# Alternate (simpler) approach"
   ]
  },
  {
   "cell_type": "code",
   "execution_count": 14,
   "metadata": {
    "scrolled": true
   },
   "outputs": [
    {
     "data": {
      "text/plain": [
       "[<time>  1:59 </time>,\n",
       " <time>  1:54 </time>,\n",
       " <time>  1:51 </time>,\n",
       " <time>  1:46 </time>,\n",
       " <time>  1:44 </time>,\n",
       " <time>  1:38 </time>,\n",
       " <time>  1:34 </time>,\n",
       " <time>  1:31 </time>,\n",
       " <time>  1:27 </time>,\n",
       " <time>  1:23 </time>,\n",
       " <time>  1:19 </time>,\n",
       " <time>  1:13 </time>,\n",
       " <time>  1:09 </time>,\n",
       " <time>  1:05 </time>,\n",
       " <time>  1:03 </time>,\n",
       " <time>  1:01 </time>]"
      ]
     },
     "execution_count": 14,
     "metadata": {},
     "output_type": "execute_result"
    }
   ],
   "source": [
    "current.find_all(\"time\", attrs={\"datetime\":False}) # would also work - lot cleaner too"
   ]
  },
  {
   "cell_type": "markdown",
   "metadata": {},
   "source": [
    "# Pull address of the album art image address\n",
    "\n",
    "Follow a similar process to pull off the web address of the album cover image. \n"
   ]
  },
  {
   "cell_type": "markdown",
   "metadata": {
    "scrolled": true
   },
   "source": [
    "img tag, class contains = \"album-art\""
   ]
  },
  {
   "cell_type": "code",
   "execution_count": 15,
   "metadata": {},
   "outputs": [
    {
     "data": {
      "text/plain": [
       "[<img alt=\"We The Common\" class=\"album-art lazyload\" data-src=\"https://albumart.publicradio.org/mb/e2/e2749c25-c2b6-493e-a2bb-10898152bd2d_5158.jpg\" src=\"\" title=\"Thao and The Get Down Stay Down - We The Common\"/>,\n",
       " <img alt=\"default album cover image\" class=\"album-art\" src=\"/assets/album-cover-default-32217dc68a771f3a44aa2b7a640cf91133b61bd1f2ae68c9ddb00055e9a8ac1d.png\"/>,\n",
       " <img alt=\"default album cover image\" class=\"album-art\" src=\"/assets/album-cover-default-32217dc68a771f3a44aa2b7a640cf91133b61bd1f2ae68c9ddb00055e9a8ac1d.png\"/>,\n",
       " <img alt=\"Wildewoman\" class=\"album-art lazyload\" data-src=\"https://albumart.publicradio.org/mb/5e/5e5c8b95-d04c-432f-8cd2-c1c8d99e6e5a_3556.jpg\" src=\"\" title=\"Lucius - Wildewoman\"/>,\n",
       " <img alt=\"Frosting on the Beater\" class=\"album-art lazyload\" data-src=\"https://albumart.publicradio.org/mb/48/48445b64-d965-369a-af3c-8193de389fd8_3ff4.jpg\" src=\"\" title=\"The Posies - Frosting on the Beater\"/>,\n",
       " <img alt=\"default album cover image\" class=\"album-art\" src=\"/assets/album-cover-default-32217dc68a771f3a44aa2b7a640cf91133b61bd1f2ae68c9ddb00055e9a8ac1d.png\"/>,\n",
       " <img alt=\"default album cover image\" class=\"album-art\" src=\"/assets/album-cover-default-32217dc68a771f3a44aa2b7a640cf91133b61bd1f2ae68c9ddb00055e9a8ac1d.png\"/>,\n",
       " <img alt=\"Foreverly\" class=\"album-art lazyload\" data-src=\"https://albumart.publicradio.org/mb/e9/e999c049-c65b-4c5e-ad12-5596998679c7_92f9.jpg\" src=\"\" title=\"Billie Joe and Norah - Foreverly\"/>,\n",
       " <img alt=\"Essential Tremors\" class=\"album-art lazyload\" data-src=\"https://albumart.publicradio.org/mb/d6/d62320e2-20c4-4589-aa76-2f8ac28447dd_e03b.jpg\" src=\"\" title=\"J. Roddy Walston and The Business - Essential Tremors\"/>,\n",
       " <img alt=\"Static\" class=\"album-art lazyload\" data-src=\"https://albumart.publicradio.org/mb/02/028b8602-3bde-495a-a7da-15594fc4f786_351a.jpg\" src=\"\" title=\"Cults - Static\"/>,\n",
       " <img alt=\"...Like Clockwork\" class=\"album-art lazyload\" data-src=\"https://albumart.publicradio.org/mb/c9/c92f73ee-527f-42ed-a556-fd615941e214_78f0.jpg\" src=\"\" title=\"Queens of the Stone Age - ...Like Clockwork\"/>,\n",
       " <img alt=\"default album cover image\" class=\"album-art\" src=\"/assets/album-cover-default-32217dc68a771f3a44aa2b7a640cf91133b61bd1f2ae68c9ddb00055e9a8ac1d.png\"/>,\n",
       " <img alt=\"Magpie and the Dandelion\" class=\"album-art lazyload\" data-src=\"https://albumart.publicradio.org/mb/24/24084807-5d23-423e-b1f3-5e9fd874e240_6ccd.jpg\" src=\"\" title=\"The Avett Brothers - Magpie and the Dandelion\"/>,\n",
       " <img alt=\"The Next Day\" class=\"album-art lazyload\" data-src=\"https://albumart.publicradio.org/mb/c2/c20be759-d767-4a7c-96c5-7a870ebc3a30_7f7d.jpg\" src=\"\" title=\"David Bowie - The Next Day\"/>,\n",
       " <img alt=\"Blunderbuss\" class=\"album-art lazyload\" data-src=\"https://albumart.publicradio.org/mb/37/37f48931-e5e6-488f-a531-ad2db311158d_7446.jpg\" src=\"\" title=\"Jack White - Blunderbuss\"/>,\n",
       " <img alt=\"Doolittle\" class=\"album-art lazyload\" data-src=\"https://albumart.publicradio.org/mb/1a/1aa41b19-5a72-341b-bd91-4cf61d1dab6b_8e05.jpg\" src=\"\" title=\"Pixies - Doolittle\"/>]"
      ]
     },
     "execution_count": 15,
     "metadata": {},
     "output_type": "execute_result"
    }
   ],
   "source": [
    "import re\n",
    "album_art = re.compile(r'album-art')\n",
    "current.find_all(\"img\", attrs={\"class\": album_art})"
   ]
  },
  {
   "cell_type": "code",
   "execution_count": 16,
   "metadata": {
    "scrolled": true
   },
   "outputs": [
    {
     "data": {
      "text/plain": [
       "<img alt=\"We The Common\" class=\"album-art lazyload\" data-src=\"https://albumart.publicradio.org/mb/e2/e2749c25-c2b6-493e-a2bb-10898152bd2d_5158.jpg\" src=\"\" title=\"Thao and The Get Down Stay Down - We The Common\"/>"
      ]
     },
     "execution_count": 16,
     "metadata": {},
     "output_type": "execute_result"
    }
   ],
   "source": [
    "ex_art = current.find_all(\"img\", attrs={\"class\": album_art})[0]\n",
    "ex_art"
   ]
  },
  {
   "cell_type": "code",
   "execution_count": 17,
   "metadata": {},
   "outputs": [
    {
     "data": {
      "text/plain": [
       "'https://albumart.publicradio.org/mb/e2/e2749c25-c2b6-493e-a2bb-10898152bd2d_5158.jpg'"
      ]
     },
     "execution_count": 17,
     "metadata": {},
     "output_type": "execute_result"
    }
   ],
   "source": [
    "ex_art[\"src\"] if ex_art[\"src\"] else ex_art[\"data-src\"]"
   ]
  },
  {
   "cell_type": "code",
   "execution_count": 18,
   "metadata": {},
   "outputs": [],
   "source": [
    "def get_art_links(soup):\n",
    "    return [tag[\"src\"] if tag[\"src\"] else tag[\"data-src\"] for tag in soup.find_all(\"img\", attrs={\"class\": album_art})]"
   ]
  },
  {
   "cell_type": "code",
   "execution_count": 19,
   "metadata": {
    "scrolled": true
   },
   "outputs": [
    {
     "data": {
      "text/plain": [
       "['https://albumart.publicradio.org/mb/e2/e2749c25-c2b6-493e-a2bb-10898152bd2d_5158.jpg',\n",
       " '/assets/album-cover-default-32217dc68a771f3a44aa2b7a640cf91133b61bd1f2ae68c9ddb00055e9a8ac1d.png',\n",
       " '/assets/album-cover-default-32217dc68a771f3a44aa2b7a640cf91133b61bd1f2ae68c9ddb00055e9a8ac1d.png',\n",
       " 'https://albumart.publicradio.org/mb/5e/5e5c8b95-d04c-432f-8cd2-c1c8d99e6e5a_3556.jpg',\n",
       " 'https://albumart.publicradio.org/mb/48/48445b64-d965-369a-af3c-8193de389fd8_3ff4.jpg',\n",
       " '/assets/album-cover-default-32217dc68a771f3a44aa2b7a640cf91133b61bd1f2ae68c9ddb00055e9a8ac1d.png',\n",
       " '/assets/album-cover-default-32217dc68a771f3a44aa2b7a640cf91133b61bd1f2ae68c9ddb00055e9a8ac1d.png',\n",
       " 'https://albumart.publicradio.org/mb/e9/e999c049-c65b-4c5e-ad12-5596998679c7_92f9.jpg',\n",
       " 'https://albumart.publicradio.org/mb/d6/d62320e2-20c4-4589-aa76-2f8ac28447dd_e03b.jpg',\n",
       " 'https://albumart.publicradio.org/mb/02/028b8602-3bde-495a-a7da-15594fc4f786_351a.jpg',\n",
       " 'https://albumart.publicradio.org/mb/c9/c92f73ee-527f-42ed-a556-fd615941e214_78f0.jpg',\n",
       " '/assets/album-cover-default-32217dc68a771f3a44aa2b7a640cf91133b61bd1f2ae68c9ddb00055e9a8ac1d.png',\n",
       " 'https://albumart.publicradio.org/mb/24/24084807-5d23-423e-b1f3-5e9fd874e240_6ccd.jpg',\n",
       " 'https://albumart.publicradio.org/mb/c2/c20be759-d767-4a7c-96c5-7a870ebc3a30_7f7d.jpg',\n",
       " 'https://albumart.publicradio.org/mb/37/37f48931-e5e6-488f-a531-ad2db311158d_7446.jpg',\n",
       " 'https://albumart.publicradio.org/mb/1a/1aa41b19-5a72-341b-bd91-4cf61d1dab6b_8e05.jpg']"
      ]
     },
     "execution_count": 19,
     "metadata": {},
     "output_type": "execute_result"
    }
   ],
   "source": [
    "get_art_links(current)"
   ]
  },
  {
   "cell_type": "code",
   "execution_count": 20,
   "metadata": {},
   "outputs": [
    {
     "data": {
      "text/plain": [
       "['https://albumart.publicradio.org/mb/e2/e2749c25-c2b6-493e-a2bb-10898152bd2d_5158.jpg',\n",
       " '/assets/album-cover-default-32217dc68a771f3a44aa2b7a640cf91133b61bd1f2ae68c9ddb00055e9a8ac1d.png',\n",
       " '/assets/album-cover-default-32217dc68a771f3a44aa2b7a640cf91133b61bd1f2ae68c9ddb00055e9a8ac1d.png',\n",
       " 'https://albumart.publicradio.org/mb/5e/5e5c8b95-d04c-432f-8cd2-c1c8d99e6e5a_3556.jpg',\n",
       " 'https://albumart.publicradio.org/mb/48/48445b64-d965-369a-af3c-8193de389fd8_3ff4.jpg',\n",
       " '/assets/album-cover-default-32217dc68a771f3a44aa2b7a640cf91133b61bd1f2ae68c9ddb00055e9a8ac1d.png',\n",
       " '/assets/album-cover-default-32217dc68a771f3a44aa2b7a640cf91133b61bd1f2ae68c9ddb00055e9a8ac1d.png',\n",
       " 'https://albumart.publicradio.org/mb/e9/e999c049-c65b-4c5e-ad12-5596998679c7_92f9.jpg',\n",
       " 'https://albumart.publicradio.org/mb/d6/d62320e2-20c4-4589-aa76-2f8ac28447dd_e03b.jpg',\n",
       " 'https://albumart.publicradio.org/mb/02/028b8602-3bde-495a-a7da-15594fc4f786_351a.jpg',\n",
       " 'https://albumart.publicradio.org/mb/c9/c92f73ee-527f-42ed-a556-fd615941e214_78f0.jpg',\n",
       " '/assets/album-cover-default-32217dc68a771f3a44aa2b7a640cf91133b61bd1f2ae68c9ddb00055e9a8ac1d.png',\n",
       " 'https://albumart.publicradio.org/mb/24/24084807-5d23-423e-b1f3-5e9fd874e240_6ccd.jpg',\n",
       " 'https://albumart.publicradio.org/mb/c2/c20be759-d767-4a7c-96c5-7a870ebc3a30_7f7d.jpg',\n",
       " 'https://albumart.publicradio.org/mb/37/37f48931-e5e6-488f-a531-ad2db311158d_7446.jpg',\n",
       " 'https://albumart.publicradio.org/mb/1a/1aa41b19-5a72-341b-bd91-4cf61d1dab6b_8e05.jpg']"
      ]
     },
     "execution_count": 20,
     "metadata": {},
     "output_type": "execute_result"
    }
   ],
   "source": [
    "get_src_or_data_src = lambda tag: tag[\"src\"] if tag[\"src\"] else tag[\"data-src\"]\n",
    "art_links = (current\n",
    "             >> find_all(\"img\", attrs={\"class\": album_art})\n",
    "             >> map(get_src_or_data_src)\n",
    "            )\n",
    "art_links"
   ]
  },
  {
   "cell_type": "code",
   "execution_count": 21,
   "metadata": {
    "scrolled": true
   },
   "outputs": [
    {
     "data": {
      "text/plain": [
       "True"
      ]
     },
     "execution_count": 21,
     "metadata": {},
     "output_type": "execute_result"
    }
   ],
   "source": [
    "len(art_links) == len(get_art_links(current)) == 16"
   ]
  },
  {
   "cell_type": "markdown",
   "metadata": {
    "scrolled": false
   },
   "source": [
    "Via parent approach (skipped): Find figure tag, figure tag contains \"a\" tag, \"a\" tag contains img tag of interest"
   ]
  },
  {
   "cell_type": "markdown",
   "metadata": {},
   "source": [
    "# Putting it all together\n",
    "\n",
    "* Make a function for each of the previous steps\n",
    "* Make an overall function\n",
    "    * input is a soup\n",
    "    * output is a list of lists\n",
    "\n",
    "**Hint:** You should use `zip` to put all the information together."
   ]
  },
  {
   "cell_type": "code",
   "execution_count": 22,
   "metadata": {},
   "outputs": [],
   "source": [
    "# Functions from pt 1:\n",
    "\n",
    "def get_titles(soup: BeautifulSoup) -> list:\n",
    "    return [tag.text for tag in soup.find_all(\"h5\", class_=\"title\")]\n",
    "\n",
    "def get_artists(soup: BeautifulSoup) -> list:\n",
    "    return [tag.text for tag in soup.find_all(\"h5\", class_=\"artist\")]\n",
    "\n",
    "# Functions for this part defined above"
   ]
  },
  {
   "cell_type": "code",
   "execution_count": 23,
   "metadata": {},
   "outputs": [],
   "source": [
    "def get_songs_data(soup):\n",
    "    titles = get_titles(soup)\n",
    "    artists = get_artists(soup)\n",
    "    times = get_times(soup)\n",
    "    arts = get_art_links(soup)\n",
    "    return [data for data in zip(titles, artists, times, arts)] # convert to list of lists rather than list of tuples"
   ]
  },
  {
   "cell_type": "code",
   "execution_count": 24,
   "metadata": {},
   "outputs": [
    {
     "data": {
      "text/plain": [
       "[('Holy Roller',\n",
       "  'Thao and The Get Down Stay Down',\n",
       "  '1:59',\n",
       "  'https://albumart.publicradio.org/mb/e2/e2749c25-c2b6-493e-a2bb-10898152bd2d_5158.jpg'),\n",
       " ('Kingdom of Rust',\n",
       "  'Doves',\n",
       "  '1:54',\n",
       "  '/assets/album-cover-default-32217dc68a771f3a44aa2b7a640cf91133b61bd1f2ae68c9ddb00055e9a8ac1d.png'),\n",
       " ('Black Dog',\n",
       "  'Frankie Lee',\n",
       "  '1:51',\n",
       "  '/assets/album-cover-default-32217dc68a771f3a44aa2b7a640cf91133b61bd1f2ae68c9ddb00055e9a8ac1d.png'),\n",
       " ('Turn It Around',\n",
       "  'Lucius',\n",
       "  '1:46',\n",
       "  'https://albumart.publicradio.org/mb/5e/5e5c8b95-d04c-432f-8cd2-c1c8d99e6e5a_3556.jpg'),\n",
       " ('Flavor of the Month',\n",
       "  'The Posies',\n",
       "  '1:44',\n",
       "  'https://albumart.publicradio.org/mb/48/48445b64-d965-369a-af3c-8193de389fd8_3ff4.jpg'),\n",
       " ('Potential Wife',\n",
       "  'Strange Names',\n",
       "  '1:38',\n",
       "  '/assets/album-cover-default-32217dc68a771f3a44aa2b7a640cf91133b61bd1f2ae68c9ddb00055e9a8ac1d.png'),\n",
       " ('24 Hours',\n",
       "  'Sky Ferreira',\n",
       "  '1:34',\n",
       "  '/assets/album-cover-default-32217dc68a771f3a44aa2b7a640cf91133b61bd1f2ae68c9ddb00055e9a8ac1d.png'),\n",
       " (\"Who's Gonna Shoe Your Pretty Little Feet?\",\n",
       "  'Billie Joe and Norah',\n",
       "  '1:31',\n",
       "  'https://albumart.publicradio.org/mb/e9/e999c049-c65b-4c5e-ad12-5596998679c7_92f9.jpg'),\n",
       " ('Marigold',\n",
       "  'J. Roddy Walston and The Business',\n",
       "  '1:27',\n",
       "  'https://albumart.publicradio.org/mb/d6/d62320e2-20c4-4589-aa76-2f8ac28447dd_e03b.jpg'),\n",
       " ('High Road',\n",
       "  'Cults',\n",
       "  '1:23',\n",
       "  'https://albumart.publicradio.org/mb/02/028b8602-3bde-495a-a7da-15594fc4f786_351a.jpg'),\n",
       " ('The Vampyre Of Time and Memory',\n",
       "  'Queens of the Stone Age',\n",
       "  '1:19',\n",
       "  'https://albumart.publicradio.org/mb/c9/c92f73ee-527f-42ed-a556-fd615941e214_78f0.jpg'),\n",
       " ('Valerie Plame',\n",
       "  'The Decemberists',\n",
       "  '1:13',\n",
       "  '/assets/album-cover-default-32217dc68a771f3a44aa2b7a640cf91133b61bd1f2ae68c9ddb00055e9a8ac1d.png'),\n",
       " ('Morning Song',\n",
       "  'The Avett Brothers',\n",
       "  '1:09',\n",
       "  'https://albumart.publicradio.org/mb/24/24084807-5d23-423e-b1f3-5e9fd874e240_6ccd.jpg'),\n",
       " ('(You Will) Set The World On Fire',\n",
       "  'David Bowie',\n",
       "  '1:05',\n",
       "  'https://albumart.publicradio.org/mb/c2/c20be759-d767-4a7c-96c5-7a870ebc3a30_7f7d.jpg'),\n",
       " ('Sixteen Saltines',\n",
       "  'Jack White',\n",
       "  '1:03',\n",
       "  'https://albumart.publicradio.org/mb/37/37f48931-e5e6-488f-a531-ad2db311158d_7446.jpg'),\n",
       " ('Wave of Mutilation',\n",
       "  'Pixies',\n",
       "  '1:01',\n",
       "  'https://albumart.publicradio.org/mb/1a/1aa41b19-5a72-341b-bd91-4cf61d1dab6b_8e05.jpg')]"
      ]
     },
     "execution_count": 24,
     "metadata": {},
     "output_type": "execute_result"
    }
   ],
   "source": [
    "get_songs_data(current)"
   ]
  }
 ],
 "metadata": {
  "anaconda-cloud": {},
  "kernelspec": {
   "display_name": "Python 3",
   "language": "python",
   "name": "python3"
  },
  "language_info": {
   "codemirror_mode": {
    "name": "ipython",
    "version": 3
   },
   "file_extension": ".py",
   "mimetype": "text/x-python",
   "name": "python",
   "nbconvert_exporter": "python",
   "pygments_lexer": "ipython3",
   "version": "3.7.6"
  }
 },
 "nbformat": 4,
 "nbformat_minor": 1
}
